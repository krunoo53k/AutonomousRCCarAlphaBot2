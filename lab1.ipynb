{
  "nbformat": 4,
  "nbformat_minor": 0,
  "metadata": {
    "colab": {
      "name": "lab1.ipynb",
      "provenance": [],
      "include_colab_link": true
    },
    "kernelspec": {
      "name": "python3",
      "display_name": "Python 3"
    },
    "language_info": {
      "name": "python"
    }
  },
  "cells": [
    {
      "cell_type": "markdown",
      "metadata": {
        "id": "view-in-github",
        "colab_type": "text"
      },
      "source": [
        "<a href=\"https://colab.research.google.com/github/krunoo53k/AutonomousRCCarAlphaBot2/blob/master/lab1.ipynb\" target=\"_parent\"><img src=\"https://colab.research.google.com/assets/colab-badge.svg\" alt=\"Open In Colab\"/></a>"
      ]
    },
    {
      "cell_type": "markdown",
      "metadata": {
        "id": "e8vtuqXEBP1j"
      },
      "source": [
        "# Lab 1 - Python, Google Colab, Slike\n",
        "\n",
        "Ove laboratorijske vježbe se rješavaju u Google Colabu i spremaju na GitHub repozitorij koji je povezan na GitHub Classroom.\n",
        "\n",
        "## Alati koje koristite za predavanje zadataka\n",
        "\n",
        "U ovom dokumentu ćete rješavati zadatke. Ovo je **Jupyter Notebook** i ima ekstenziju **.ipynb**, interaktivno web okruženje za analizu podataka, vizualizaciju, prikaze rješenja, edukaciju i sl. \n",
        "\n",
        "**Google Colab** je alat pomoću kojega možete pokretati i dijeliti Jupyter Notebook datoteke na Googleovim serverima, uključujući i korištenje Googleovih CPU, GPU i TPU resursa. Colab je kao Google Docs za Jupyter Notebook. **Google Colab ne sprema vašu zadaću na GitHub automatski.**\n",
        "\n",
        "**GitHub koristite za spremanje i predavanje vaše zadaće.** Kad prihvatite zadatak preko GitHub classroom, automatski vam se kreira repozitorij na vašem GitHub računu s kopijom zadatka. Tamo ćete spremiti vaša rješenja. Spremanjem rješenja predajete zadatke tog labosa.\n",
        "\n",
        "## Kako riješiti zadatke?\n",
        "\n",
        "1. Prihvatite zadatak putem Google Classroom linka koji ćete dobiti. Google Classroom će kreirati repozitorij na vašem računu.\n",
        "2. Uđite u novokreiran repozitorij na vašem računu u kliknite na **.ipynb** datoteku, zatim kliknite **Open in Colab**.\n",
        "3. Zadatke rješavate u Google Colabu.\n",
        "\n",
        "## Kako spremiti (predati) zadatke?\n",
        "\n",
        "1. Unutar **Google Colaba** kliknite na **Open settings** kotačić u gornjem desnom kutu.\n",
        "2. Kliknite na **GitHub** tab i odaberite kvačicu za **Access private repositories and organizations**.\n",
        "3. Otvorit će se novi prozor da dodate pristup GitHubu. Kod **ferit-osirv** kliknite **Grant**.  \n",
        "4. Spremite i izađite iz postavki.\n",
        "\n",
        "\n",
        "5. Kliknite na **File > Save a copy in GitHub**.\n",
        "6. Odaberite kreiran repozitorij labosa **koji uključuje vaše ime**.\n",
        "\n",
        "> *Napomena:* Korake 1-4 morate napraviti samo prvi put."
      ]
    },
    {
      "cell_type": "markdown",
      "metadata": {
        "id": "tlt9F0--QgIC"
      },
      "source": [
        "# Uvod u Jupyter Notebook\n",
        "\n",
        "Jupyter Notebook sastoji se od dva tipa blokova: tekst i kod. Trenutno čitate tekstualni blok koji može sadržavati tekst, markdown ili HTML. Koristan je za dodavanje više informacija o vašem kodu, tako da se može čitati kao bilježnica, odakle i dolazi naziv Jupyter Notebook.\n",
        "\n",
        "Kodni blokovi sadrže Python kod ili naredbe komandne linije. "
      ]
    },
    {
      "cell_type": "code",
      "metadata": {
        "colab": {
          "base_uri": "https://localhost:8080/",
          "height": 35
        },
        "id": "GjI2lX1EPUqK",
        "outputId": "23b61f7e-4b3c-4a4a-be96-42171d723a56"
      },
      "source": [
        "text = \"Vaš kod pišete u kodne blokove kao što je ovaj\"\n",
        "# Ovi kodni blokovi će uvijek ispisati rezultat zadnje linije koda ispod bloka\n",
        "text"
      ],
      "execution_count": 1,
      "outputs": [
        {
          "output_type": "execute_result",
          "data": {
            "application/vnd.google.colaboratory.intrinsic+json": {
              "type": "string"
            },
            "text/plain": [
              "'Vaš kod pišete u kodne blokove kao što je ovaj'"
            ]
          },
          "metadata": {},
          "execution_count": 1
        }
      ]
    },
    {
      "cell_type": "markdown",
      "metadata": {
        "id": "bZe57cDBRCE7"
      },
      "source": [
        "Kodne blokove možete izvršiti tako da ih odaberete mišem i stisnete play tipku u gornjem lijevom kutu bloka. Također možete izvršiti blok i prijeći na drugi prečacem **Shift+Enter**. **Control+Enter** će izvesti trenutni blok i ostaviti ga označenog.\n",
        "\n",
        "Ispis kodnih blokova nalazi se ispod bloka. On može sadržavati ispise putem `print` funkcije te grafove i slike korištenjem biblioteka kao što su OpenCV ili matplotlib.\n",
        "\n",
        "Također, rezultat zadnje linije se uvijek ispisuje na kraju ispisa.\n",
        "\n",
        "Slobodno se igrajte kodnim blokovima i uređujte ovaj notebook kako god želite!\n",
        "\n",
        "**Za još savjeta** pogledajte sljedeći notebook: https://colab.research.google.com/notebooks/basic_features_overview.ipynb"
      ]
    },
    {
      "cell_type": "markdown",
      "metadata": {
        "id": "o5DM9UScViXU"
      },
      "source": [
        "## Red izvođenja\n",
        "\n",
        "Bitno je zapamtiti da se blokovi izvode redom kojim ih vi izvodite. Npr. pogledajte sljedeća 3 bloka:"
      ]
    },
    {
      "cell_type": "code",
      "metadata": {
        "id": "fYQ36HP5VwOX"
      },
      "source": [
        "a = 3 # Blok 1"
      ],
      "execution_count": 2,
      "outputs": []
    },
    {
      "cell_type": "code",
      "metadata": {
        "id": "EhVqiFS2VxDp"
      },
      "source": [
        "a = 2 # Blok 2"
      ],
      "execution_count": 3,
      "outputs": []
    },
    {
      "cell_type": "code",
      "metadata": {
        "colab": {
          "base_uri": "https://localhost:8080/"
        },
        "id": "tPhu-8R5VxpF",
        "outputId": "d2490119-dade-409f-a8ae-bfcfd1dc394d"
      },
      "source": [
        "a # Blok 3"
      ],
      "execution_count": 4,
      "outputs": [
        {
          "output_type": "execute_result",
          "data": {
            "text/plain": [
              "2"
            ]
          },
          "metadata": {},
          "execution_count": 4
        }
      ]
    },
    {
      "cell_type": "markdown",
      "metadata": {
        "id": "hmBrMmukV1aG"
      },
      "source": [
        "Probajte izvesti prvo blok 2, zatim blok 1 i onda blok 3. Primijetit ćete da se ispis bloka 3 mijenja, zato što je blok 1 izveden i `a` je postavljen na novu vrijednost. Ovo ponašanje može dovesti do bugova u kodu. Zbog toga je dobra praksa povremeno ali pogotovo **prije predaje** izvršiti još jednom sve blokove redom. To možete napraviti klikom na **Runtime > Run all** ili tipkom **F9**."
      ]
    },
    {
      "cell_type": "markdown",
      "metadata": {
        "id": "8pVjDTjqWayF"
      },
      "source": [
        "## Uvođenje (import) biblioteka\n",
        "\n",
        "Za izradu laboratorijskih vježbi trebat će vam razne biblioteke kao što su numpy, OpenCV, matplotlib i sl. Dobra je praksa **na početku** notebooka imati **zaseban blok** za uvođenje svih biblioteka koje će biti potrebne za izvođenje. Primjer:"
      ]
    },
    {
      "cell_type": "code",
      "metadata": {
        "id": "EXS_YJC2WsWD"
      },
      "source": [
        "import numpy as np\n",
        "import cv2 as cv\n",
        "import matplotlib.pyplot as plot"
      ],
      "execution_count": 5,
      "outputs": []
    },
    {
      "cell_type": "markdown",
      "metadata": {
        "id": "-iB2rlmOWyZb"
      },
      "source": [
        "Tako ćete osigurati da je taj blok uvijek izveden i sve biblioteke su učitane. Također, jednom kad su te biblioteke učitanje Google Colab će vam nuditi prijedloge (auto-complete) dok pišete, što će vam znatno olakšati rad."
      ]
    },
    {
      "cell_type": "markdown",
      "metadata": {
        "id": "feUPz7IDCbDx"
      },
      "source": [
        "## Kopiranje datoteka iz GitHub repozitorija\n",
        "\n",
        "Za izradu vježbi bit će vam potrebne slike i druge datoteke koje će se nalaziti u GitHub repozitoriju vježbe. Ovakva komanda će biti dostupna u notebooku svake vježbe. Ona će kopirati datoteke s GitHuba u Google Colab okruženje.\n",
        "\n",
        "**Ovu komandu je potrebno pokrenuti prije nego što krenete raditi svaku vježbu.**"
      ]
    },
    {
      "cell_type": "code",
      "metadata": {
        "id": "QpP_i0KgCefb",
        "colab": {
          "base_uri": "https://localhost:8080/"
        },
        "outputId": "8a9d57de-40af-4883-b7f1-fce29611b43b"
      },
      "source": [
        "!rm -rf clone && git clone https://github.com/ferit-osirv/lab1 clone && cp -a clone/. ."
      ],
      "execution_count": 6,
      "outputs": [
        {
          "output_type": "stream",
          "name": "stdout",
          "text": [
            "Cloning into 'clone'...\n",
            "remote: Enumerating objects: 31, done.\u001b[K\n",
            "remote: Counting objects: 100% (31/31), done.\u001b[K\n",
            "remote: Compressing objects: 100% (31/31), done.\u001b[K\n",
            "remote: Total 31 (delta 4), reused 16 (delta 0), pack-reused 0\u001b[K\n",
            "Unpacking objects: 100% (31/31), done.\n"
          ]
        }
      ]
    },
    {
      "cell_type": "markdown",
      "metadata": {
        "id": "XIPg8Vf9Cr8D"
      },
      "source": [
        "**Google Colab će povremeno obrisati sve datoteke.** Tako da će možda biti potrebno ponovno pokrenuti ovu komandu između dvije sesije. Ako dobivate greške da datoteke ne postoje, probajte ponovno pokrenuti gornju komandu."
      ]
    },
    {
      "cell_type": "markdown",
      "metadata": {
        "id": "rRuk6Bc8PgF8"
      },
      "source": [
        "# Uvod u Python, Numpy i OpenCV\n",
        "\n",
        "U ovim vježbama ćete se upoznati s osnovama Pythona. Pogledajte **README** datoteku na GitHub repozitoriju za uvod u Python, pregled sintakse i linkove na dodatnu literaturu.\n",
        "\n",
        "## Zadaci\n",
        "\n",
        "Unutar ovog Jupyter Notebooka riješite sljedeće zadatke, tako da je rezultat svakog zadatka vidljiv ispod kodnog bloka. **Dodajte barem jedan kodni blok za svaki zadatak.**\n",
        "\n",
        "1. Napisati program koji će učitati sliku i prikazati tri odvojene slike, po jednu za svaki kanal. (Hint: Pri prikazu jednog kanala, postaviti druga dva kanala na 0)\n",
        "\n",
        "2. Napisati program koji će učitati sliku i napraviti oko učitane slike obrub debljine 10 piksela. Takvu sliku prikazati.\n",
        "\n",
        "3. Napisati program koji će učitati sliku, te iz te slike napraviti tri slike. Prva će imati dvostruko manje vertikalnih piksela od originala (redova), druga će imati dvostruko manje horizontalnih piksela od originala (stupaca), a treća će imati dvostruko manje i jednih i drugih. (Hint: uzimate svaki drugi piksel) Prikazati sve tri slike.\n"
      ]
    },
    {
      "cell_type": "code",
      "metadata": {
        "id": "az7fSs7oOHIq"
      },
      "source": [
        "import cv2 as cv\n",
        "import matplotlib.pyplot as plt"
      ],
      "execution_count": 7,
      "outputs": []
    },
    {
      "cell_type": "code",
      "metadata": {
        "id": "m5b5VJnlXJHf"
      },
      "source": [
        "# korisne funkcije:\n",
        "def imread_rgb(file):\n",
        "  image = cv.imread(file)\n",
        "  rgb = cv.cvtColor(image, cv.COLOR_BGR2RGB)\n",
        "  return rgb\n",
        "\n",
        "def imread_grayscale(file):\n",
        "  image = cv.imread(file, cv.IMREAD_GRAYSCALE)\n",
        "  return image\n",
        "\n",
        "def show_image(image):\n",
        "  plt.imshow(image)"
      ],
      "execution_count": 8,
      "outputs": []
    },
    {
      "cell_type": "code",
      "metadata": {
        "id": "ZPPKOVP6OAxW",
        "outputId": "5882c468-8827-440c-c692-93e06a2c20c0",
        "colab": {
          "base_uri": "https://localhost:8080/",
          "height": 350
        }
      },
      "source": [
        "slika=cv.imread(\"/slike/airplane.bmp\")\n",
        "cv.imshow(slika)"
      ],
      "execution_count": 11,
      "outputs": [
        {
          "output_type": "error",
          "ename": "DisabledFunctionError",
          "evalue": "ignored",
          "traceback": [
            "\u001b[0;31m---------------------------------------------------------------------------\u001b[0m",
            "\u001b[0;31mDisabledFunctionError\u001b[0m                     Traceback (most recent call last)",
            "\u001b[0;32m<ipython-input-11-a57260b2eb0b>\u001b[0m in \u001b[0;36m<module>\u001b[0;34m()\u001b[0m\n\u001b[1;32m      1\u001b[0m \u001b[0mslika\u001b[0m\u001b[0;34m=\u001b[0m\u001b[0mcv\u001b[0m\u001b[0;34m.\u001b[0m\u001b[0mimread\u001b[0m\u001b[0;34m(\u001b[0m\u001b[0;34m\"/slike/airplane.bmp\"\u001b[0m\u001b[0;34m)\u001b[0m\u001b[0;34m\u001b[0m\u001b[0;34m\u001b[0m\u001b[0m\n\u001b[0;32m----> 2\u001b[0;31m \u001b[0mcv\u001b[0m\u001b[0;34m.\u001b[0m\u001b[0mimshow\u001b[0m\u001b[0;34m(\u001b[0m\u001b[0mslika\u001b[0m\u001b[0;34m)\u001b[0m\u001b[0;34m\u001b[0m\u001b[0;34m\u001b[0m\u001b[0m\n\u001b[0m",
            "\u001b[0;32m/usr/local/lib/python3.7/dist-packages/google/colab/_import_hooks/_cv2.py\u001b[0m in \u001b[0;36mwrapped\u001b[0;34m(*args, **kwargs)\u001b[0m\n\u001b[1;32m     50\u001b[0m   \u001b[0;32mdef\u001b[0m \u001b[0mwrapped\u001b[0m\u001b[0;34m(\u001b[0m\u001b[0;34m*\u001b[0m\u001b[0margs\u001b[0m\u001b[0;34m,\u001b[0m \u001b[0;34m**\u001b[0m\u001b[0mkwargs\u001b[0m\u001b[0;34m)\u001b[0m\u001b[0;34m:\u001b[0m\u001b[0;34m\u001b[0m\u001b[0;34m\u001b[0m\u001b[0m\n\u001b[1;32m     51\u001b[0m     \u001b[0;32mif\u001b[0m \u001b[0;32mnot\u001b[0m \u001b[0mos\u001b[0m\u001b[0;34m.\u001b[0m\u001b[0menviron\u001b[0m\u001b[0;34m.\u001b[0m\u001b[0mget\u001b[0m\u001b[0;34m(\u001b[0m\u001b[0menv_var\u001b[0m\u001b[0;34m,\u001b[0m \u001b[0;32mFalse\u001b[0m\u001b[0;34m)\u001b[0m\u001b[0;34m:\u001b[0m\u001b[0;34m\u001b[0m\u001b[0;34m\u001b[0m\u001b[0m\n\u001b[0;32m---> 52\u001b[0;31m       \u001b[0;32mraise\u001b[0m \u001b[0mDisabledFunctionError\u001b[0m\u001b[0;34m(\u001b[0m\u001b[0mmessage\u001b[0m\u001b[0;34m,\u001b[0m \u001b[0mname\u001b[0m \u001b[0;32mor\u001b[0m \u001b[0mfunc\u001b[0m\u001b[0;34m.\u001b[0m\u001b[0m__name__\u001b[0m\u001b[0;34m)\u001b[0m\u001b[0;34m\u001b[0m\u001b[0;34m\u001b[0m\u001b[0m\n\u001b[0m\u001b[1;32m     53\u001b[0m     \u001b[0;32mreturn\u001b[0m \u001b[0mfunc\u001b[0m\u001b[0;34m(\u001b[0m\u001b[0;34m*\u001b[0m\u001b[0margs\u001b[0m\u001b[0;34m,\u001b[0m \u001b[0;34m**\u001b[0m\u001b[0mkwargs\u001b[0m\u001b[0;34m)\u001b[0m\u001b[0;34m\u001b[0m\u001b[0;34m\u001b[0m\u001b[0m\n\u001b[1;32m     54\u001b[0m \u001b[0;34m\u001b[0m\u001b[0m\n",
            "\u001b[0;31mDisabledFunctionError\u001b[0m: cv2.imshow() is disabled in Colab, because it causes Jupyter sessions\nto crash; see https://github.com/jupyter/notebook/issues/3935.\nAs a substitution, consider using\n  from google.colab.patches import cv2_imshow\n"
          ],
          "errorDetails": {
            "actions": [
              {
                "action": "open_snippet",
                "actionText": "Search Snippets for cv2.imshow",
                "snippetFilter": "cv2.imshow"
              }
            ]
          }
        }
      ]
    }
  ]
}